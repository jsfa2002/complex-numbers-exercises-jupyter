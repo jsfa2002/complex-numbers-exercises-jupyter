{
 "cells": [
  {
   "cell_type": "markdown",
   "id": "22249bc1-944d-4383-bbae-c0652195246e",
   "metadata": {},
   "source": [
    "# Exercises on Complex Vectors and Matrices with Concrete Cases\n",
    "\n",
    "*By: Juan Sebastián Fajardo Acevedo* "
   ]
  },
  {
   "cell_type": "code",
   "execution_count": 1,
   "id": "996a1200-0312-423a-8652-c6929b35b12b",
   "metadata": {},
   "outputs": [],
   "source": [
    "import numpy as np"
   ]
  },
  {
   "cell_type": "markdown",
   "id": "9d83d690-1fef-497f-90b9-f689e12a42d2",
   "metadata": {},
   "source": [
    "### Exercise 1: Sum of Two Complex Vectors"
   ]
  },
  {
   "cell_type": "code",
   "execution_count": 4,
   "id": "ac648235-6952-41f6-9255-fe415ed8004a",
   "metadata": {},
   "outputs": [
    {
     "name": "stdout",
     "output_type": "stream",
     "text": [
      "Suma de v1 y v2: [3.+1.j 7.+1.j]\n"
     ]
    }
   ],
   "source": [
    "# Definir los vectores\n",
    "v1 = np.array([1 + 2j, 3 - 1j])\n",
    "v2 = np.array([2 - 1j, 4 + 2j])\n",
    "\n",
    "# Suma de vectores\n",
    "suma = v1 + v2\n",
    "print(\"Suma de v1 y v2:\", suma)"
   ]
  },
  {
   "cell_type": "markdown",
   "id": "9b51312b-1e3e-4308-b793-59dce08f4cc0",
   "metadata": {},
   "source": [
    "### Exercise 2: Negation of a Complex Vector"
   ]
  },
  {
   "cell_type": "code",
   "execution_count": 3,
   "id": "2b4a7068-97a8-4c05-9ab8-2326e1c0de0b",
   "metadata": {},
   "outputs": [
    {
     "name": "stdout",
     "output_type": "stream",
     "text": [
      "Negación de v: [-2.-3.j -1.+2.j]\n"
     ]
    }
   ],
   "source": [
    "# Definir el vector\n",
    "v = np.array([2 + 3j, 1 - 2j])\n",
    "\n",
    "# Negación del vector\n",
    "negacion = -v\n",
    "print(\"Negación de v:\", negacion)"
   ]
  },
  {
   "cell_type": "markdown",
   "id": "f93f6f99-fa49-48b1-9906-2a8e12c831bc",
   "metadata": {},
   "source": [
    "### Exercise 3: Multiplication of a Complex Vector by a Scalar"
   ]
  },
  {
   "cell_type": "code",
   "execution_count": 5,
   "id": "a87bf777-95bf-4a70-b046-887bd2e09434",
   "metadata": {},
   "outputs": [
    {
     "name": "stdout",
     "output_type": "stream",
     "text": [
      "Multiplicación de v por el escalar: [4.-2.j 4.+8.j]\n"
     ]
    }
   ],
   "source": [
    "# Definir el vector y el escalar\n",
    "v = np.array([1 - 1j, 2 + 2j])\n",
    "escalar = 3 + 1j\n",
    "\n",
    "# Multiplicación por escalar\n",
    "multiplicacion = escalar * v\n",
    "print(\"Multiplicación de v por el escalar:\", multiplicacion)"
   ]
  },
  {
   "cell_type": "markdown",
   "id": "15b6440a-a460-4356-89f3-d6a639f28140",
   "metadata": {},
   "source": [
    "### Exercise 4: Transpose of a Complex Vector"
   ]
  },
  {
   "cell_type": "code",
   "execution_count": 6,
   "id": "3db045a5-752b-4b4a-bd53-20825a8ef01d",
   "metadata": {},
   "outputs": [
    {
     "name": "stdout",
     "output_type": "stream",
     "text": [
      "Transpuesta de v: [2.-1.j 3.+4.j]\n"
     ]
    }
   ],
   "source": [
    "# Definir el vector\n",
    "v = np.array([2 - 1j, 3 + 4j])\n",
    "\n",
    "# Transpuesta del vector\n",
    "transpuesta = v.T\n",
    "print(\"Transpuesta de v:\", transpuesta)"
   ]
  },
  {
   "cell_type": "markdown",
   "id": "32cb3834-2ab5-4886-a3f8-487436902499",
   "metadata": {},
   "source": [
    "### Exercise 5: Conjugate of a Complex Vector"
   ]
  },
  {
   "cell_type": "code",
   "execution_count": 7,
   "id": "2307ef73-3ca3-428f-99bd-0181dd1d29cd",
   "metadata": {},
   "outputs": [
    {
     "name": "stdout",
     "output_type": "stream",
     "text": [
      "Conjugado de v: [1.-1.j 2.+3.j]\n"
     ]
    }
   ],
   "source": [
    "# Definir el vector\n",
    "v = np.array([1 + 1j, 2 - 3j])\n",
    "\n",
    "# Conjugado del vector\n",
    "conjugado = np.conj(v)\n",
    "print(\"Conjugado de v:\", conjugado)"
   ]
  },
  {
   "cell_type": "markdown",
   "id": "348e184a-bde0-4d84-a4c1-941188d93eaa",
   "metadata": {},
   "source": [
    "### Exercise 6: Adjunct (Conjugate Transpose) of a Complex Vector"
   ]
  },
  {
   "cell_type": "code",
   "execution_count": 8,
   "id": "6615ec04-bdba-456b-8780-e024c8a52687",
   "metadata": {},
   "outputs": [
    {
     "name": "stdout",
     "output_type": "stream",
     "text": [
      "Adjunta de v: [1.+2.j 3.-1.j]\n"
     ]
    }
   ],
   "source": [
    "# Definir el vector\n",
    "v = np.array([1 - 2j, 3 + 1j])\n",
    "\n",
    "# Adjunta (conjugado transpuesto) del vector\n",
    "adjunta = np.conj(v).T\n",
    "print(\"Adjunta de v:\", adjunta)"
   ]
  },
  {
   "cell_type": "markdown",
   "id": "2baf2526-035c-4b32-ab9f-58109dc09f20",
   "metadata": {},
   "source": [
    "### Exercise 7: Sum of Two Complex Matrices"
   ]
  },
  {
   "cell_type": "code",
   "execution_count": 10,
   "id": "bc9618ab-449b-400f-9334-67fced31d7d6",
   "metadata": {},
   "outputs": [
    {
     "name": "stdout",
     "output_type": "stream",
     "text": [
      "Suma de m1 y m2:\n",
      " [[3.-2.j 3.-1.j]\n",
      " [3.+3.j 6.+2.j]]\n"
     ]
    }
   ],
   "source": [
    "# Definir las matrices\n",
    "m1 = np.array([[1 + 1j, 2 - 1j], [3 + 2j, 4]])\n",
    "m2 = np.array([[2 - 3j, 1], [1j, 2 + 2j]])\n",
    "\n",
    "# Suma de matrices\n",
    "suma = m1 + m2\n",
    "print(\"Suma de m1 y m2:\\n\", suma)"
   ]
  },
  {
   "cell_type": "markdown",
   "id": "7f20013a-3cd1-4dbe-aa34-83c252fb5820",
   "metadata": {},
   "source": [
    "### Exercise 8: Negation of a Complex Matrix"
   ]
  },
  {
   "cell_type": "code",
   "execution_count": 11,
   "id": "a29b34fd-cd58-45ff-bc56-fea41528d531",
   "metadata": {},
   "outputs": [
    {
     "name": "stdout",
     "output_type": "stream",
     "text": [
      "Negación de m:\n",
      " [[-2.-1.j -3.-0.j]\n",
      " [-1.+1.j -2.-2.j]]\n"
     ]
    }
   ],
   "source": [
    "# Definir la matriz\n",
    "m = np.array([[2 + 1j, 3], [1 - 1j, 2 + 2j]])\n",
    "\n",
    "# Negación de la matriz\n",
    "negacion = -m\n",
    "print(\"Negación de m:\\n\", negacion)"
   ]
  },
  {
   "cell_type": "markdown",
   "id": "e30913a8-f871-44f7-ae88-265d1beb913a",
   "metadata": {},
   "source": [
    "### Exercise 9: Multiplication of a Complex Matrix by a Scalar"
   ]
  },
  {
   "cell_type": "code",
   "execution_count": 12,
   "id": "be218dfb-8f5a-4a41-8e75-71a45e154e4f",
   "metadata": {},
   "outputs": [
    {
     "name": "stdout",
     "output_type": "stream",
     "text": [
      "Multiplicación de m por el escalar:\n",
      " [[ 5. +1.j  4. +6.j]\n",
      " [ 3.+11.j 14. +8.j]]\n"
     ]
    }
   ],
   "source": [
    "# Definir la matriz y el escalar\n",
    "m = np.array([[1 - 1j, 2], [3 + 1j, 4 - 2j]])\n",
    "escalar = 2 + 3j\n",
    "\n",
    "# Multiplicación por escalar\n",
    "multiplicacion = escalar * m\n",
    "print(\"Multiplicación de m por el escalar:\\n\", multiplicacion)"
   ]
  },
  {
   "cell_type": "markdown",
   "id": "774de9db-ec0c-4507-b35c-a3331b10851b",
   "metadata": {},
   "source": [
    "### Exercise 10: Conjugate of a Complex Matrix"
   ]
  },
  {
   "cell_type": "code",
   "execution_count": 13,
   "id": "9fb2f747-deb2-4b7e-b4e7-9feb63acde71",
   "metadata": {},
   "outputs": [
    {
     "name": "stdout",
     "output_type": "stream",
     "text": [
      "Conjugado de m:\n",
      " [[1.-1.j 2.-0.j]\n",
      " [3.+1.j 4.-2.j]]\n"
     ]
    }
   ],
   "source": [
    "# Definir la matriz\n",
    "m = np.array([[1 + 1j, 2], [3 - 1j, 4 + 2j]])\n",
    "\n",
    "# Conjugado de la matriz\n",
    "conjugado = np.conj(m)\n",
    "print(\"Conjugado de m:\\n\", conjugado)"
   ]
  },
  {
   "cell_type": "markdown",
   "id": "cdad88f3-9e39-4d17-a256-2d7299f5f1d6",
   "metadata": {},
   "source": [
    "### Exercise 11: Transpose of a Complex Matrix"
   ]
  },
  {
   "cell_type": "code",
   "execution_count": 14,
   "id": "91e41c22-cdf7-449d-9779-476ff6504c99",
   "metadata": {},
   "outputs": [
    {
     "name": "stdout",
     "output_type": "stream",
     "text": [
      "Transpuesta de m:\n",
      " [[1.-1.j 3.+0.j]\n",
      " [2.+2.j 4.-1.j]]\n"
     ]
    }
   ],
   "source": [
    "# Definir la matriz\n",
    "m = np.array([[1 - 1j, 2 + 2j], [3, 4 - 1j]])\n",
    "\n",
    "# Transpuesta de la matriz\n",
    "transpuesta = m.T\n",
    "print(\"Transpuesta de m:\\n\", transpuesta)"
   ]
  },
  {
   "cell_type": "markdown",
   "id": "a8ac7318-d5ad-47cf-86a7-485debf9170d",
   "metadata": {},
   "source": [
    "### Exercise 12: Adjunct (Conjugate Transpose) of a Complex Matrix"
   ]
  },
  {
   "cell_type": "code",
   "execution_count": 15,
   "id": "1b16398d-291c-46f4-bb30-ae38ec671c64",
   "metadata": {},
   "outputs": [
    {
     "name": "stdout",
     "output_type": "stream",
     "text": [
      "Adjunta de m:\n",
      " [[1.-2.j 4.-0.j]\n",
      " [3.+1.j 5.-1.j]]\n"
     ]
    }
   ],
   "source": [
    "# Definir la matriz\n",
    "m = np.array([[1 + 2j, 3 - 1j], [4, 5 + 1j]])\n",
    "\n",
    "# Adjunta (conjugado transpuesto) de la matriz\n",
    "adjunta = np.conj(m).T\n",
    "print(\"Adjunta de m:\\n\", adjunta)"
   ]
  },
  {
   "cell_type": "markdown",
   "id": "1998b8fa-4223-4a79-854d-67ffae0a1710",
   "metadata": {},
   "source": [
    "### Exercise 13: Checking the Dimensions of a Matrix"
   ]
  },
  {
   "cell_type": "code",
   "execution_count": 16,
   "id": "7c43db76-1150-4751-82dc-bbdfaa87e3e9",
   "metadata": {},
   "outputs": [
    {
     "name": "stdout",
     "output_type": "stream",
     "text": [
      "Dimensiones de m: (2, 2)\n"
     ]
    }
   ],
   "source": [
    "# Definir la matriz\n",
    "m = np.array([[1 - 1j, 2], [3 + 2j, 4 - 1j]])\n",
    "\n",
    "# Dimensiones de la matriz\n",
    "dimensiones = m.shape\n",
    "print(\"Dimensiones de m:\", dimensiones)"
   ]
  },
  {
   "cell_type": "markdown",
   "id": "e7c7f006-f13e-4826-b0b7-087603a81caf",
   "metadata": {},
   "source": [
    "### Exercise 14: Multiplying a Complex Square Matrix by a Complex Column Vector"
   ]
  },
  {
   "cell_type": "code",
   "execution_count": 17,
   "id": "d03b471e-8bf1-4ff8-8ae5-aaccb492b931",
   "metadata": {},
   "outputs": [
    {
     "name": "stdout",
     "output_type": "stream",
     "text": [
      "Resultado de m * v: [8. +6.j 7.+10.j]\n"
     ]
    }
   ],
   "source": [
    "# Definir la matriz y el vector\n",
    "m = np.array([[1 + 1j, 2 - 1j], [3, 4 + 1j]])\n",
    "v = np.array([2 - 1j, 1 + 3j])\n",
    "\n",
    "# Multiplicación de la matriz por el vector\n",
    "resultado = np.dot(m, v)\n",
    "print(\"Resultado de m * v:\", resultado)"
   ]
  }
 ],
 "metadata": {
  "kernelspec": {
   "display_name": "Python 3 (ipykernel)",
   "language": "python",
   "name": "python3"
  },
  "language_info": {
   "codemirror_mode": {
    "name": "ipython",
    "version": 3
   },
   "file_extension": ".py",
   "mimetype": "text/x-python",
   "name": "python",
   "nbconvert_exporter": "python",
   "pygments_lexer": "ipython3",
   "version": "3.9.13"
  }
 },
 "nbformat": 4,
 "nbformat_minor": 5
}
